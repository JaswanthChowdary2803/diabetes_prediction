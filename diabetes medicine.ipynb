{
 "cells": [
  {
   "cell_type": "code",
   "execution_count": 19,
   "id": "e333b3f1",
   "metadata": {},
   "outputs": [
    {
     "data": {
      "text/html": [
       "<div>\n",
       "<style scoped>\n",
       "    .dataframe tbody tr th:only-of-type {\n",
       "        vertical-align: middle;\n",
       "    }\n",
       "\n",
       "    .dataframe tbody tr th {\n",
       "        vertical-align: top;\n",
       "    }\n",
       "\n",
       "    .dataframe thead th {\n",
       "        text-align: right;\n",
       "    }\n",
       "</style>\n",
       "<table border=\"1\" class=\"dataframe\">\n",
       "  <thead>\n",
       "    <tr style=\"text-align: right;\">\n",
       "      <th></th>\n",
       "      <th>Age</th>\n",
       "      <th>Pregnancies</th>\n",
       "      <th>Glucose</th>\n",
       "      <th>BloodPressure</th>\n",
       "      <th>SkinThickness</th>\n",
       "      <th>Insulin</th>\n",
       "      <th>BMI</th>\n",
       "      <th>DiabetesPedigreeFunction</th>\n",
       "      <th>Outcome</th>\n",
       "      <th>Medication</th>\n",
       "      <th>Precautions</th>\n",
       "      <th>Food Intake</th>\n",
       "    </tr>\n",
       "  </thead>\n",
       "  <tbody>\n",
       "    <tr>\n",
       "      <th>0</th>\n",
       "      <td>50</td>\n",
       "      <td>6</td>\n",
       "      <td>148</td>\n",
       "      <td>72</td>\n",
       "      <td>35</td>\n",
       "      <td>0</td>\n",
       "      <td>33.6</td>\n",
       "      <td>0.627</td>\n",
       "      <td>1</td>\n",
       "      <td>Metformin</td>\n",
       "      <td>Regularly monitor blood sugar levels, maintain...</td>\n",
       "      <td>Balanced diet with regular mealtimes</td>\n",
       "    </tr>\n",
       "    <tr>\n",
       "      <th>1</th>\n",
       "      <td>31</td>\n",
       "      <td>1</td>\n",
       "      <td>85</td>\n",
       "      <td>66</td>\n",
       "      <td>29</td>\n",
       "      <td>0</td>\n",
       "      <td>26.6</td>\n",
       "      <td>0.351</td>\n",
       "      <td>0</td>\n",
       "      <td>None</td>\n",
       "      <td>Maintain healthy diet and exercise routine</td>\n",
       "      <td>Limit intake of sugary and processed foods</td>\n",
       "    </tr>\n",
       "    <tr>\n",
       "      <th>2</th>\n",
       "      <td>32</td>\n",
       "      <td>8</td>\n",
       "      <td>183</td>\n",
       "      <td>64</td>\n",
       "      <td>0</td>\n",
       "      <td>0</td>\n",
       "      <td>23.3</td>\n",
       "      <td>0.672</td>\n",
       "      <td>1</td>\n",
       "      <td>Insulin</td>\n",
       "      <td>Regularly monitor blood sugar levels, maintain...</td>\n",
       "      <td>Low-carb diet with plenty of leafy greens and ...</td>\n",
       "    </tr>\n",
       "    <tr>\n",
       "      <th>3</th>\n",
       "      <td>21</td>\n",
       "      <td>1</td>\n",
       "      <td>89</td>\n",
       "      <td>66</td>\n",
       "      <td>23</td>\n",
       "      <td>94</td>\n",
       "      <td>28.1</td>\n",
       "      <td>0.167</td>\n",
       "      <td>0</td>\n",
       "      <td>None</td>\n",
       "      <td>Maintain healthy diet and exercise routine</td>\n",
       "      <td>Balanced diet with moderate carbohydrate intake</td>\n",
       "    </tr>\n",
       "    <tr>\n",
       "      <th>4</th>\n",
       "      <td>33</td>\n",
       "      <td>0</td>\n",
       "      <td>137</td>\n",
       "      <td>40</td>\n",
       "      <td>35</td>\n",
       "      <td>168</td>\n",
       "      <td>43.1</td>\n",
       "      <td>2.288</td>\n",
       "      <td>1</td>\n",
       "      <td>Metformin,Insulin</td>\n",
       "      <td>Regularly monitor blood sugar levels, maintain...</td>\n",
       "      <td>Low-glycemic index foods and portion control</td>\n",
       "    </tr>\n",
       "  </tbody>\n",
       "</table>\n",
       "</div>"
      ],
      "text/plain": [
       "   Age  Pregnancies  Glucose  BloodPressure  SkinThickness  Insulin   BMI  \\\n",
       "0   50            6      148             72             35        0  33.6   \n",
       "1   31            1       85             66             29        0  26.6   \n",
       "2   32            8      183             64              0        0  23.3   \n",
       "3   21            1       89             66             23       94  28.1   \n",
       "4   33            0      137             40             35      168  43.1   \n",
       "\n",
       "   DiabetesPedigreeFunction  Outcome         Medication  \\\n",
       "0                     0.627        1          Metformin   \n",
       "1                     0.351        0               None   \n",
       "2                     0.672        1            Insulin   \n",
       "3                     0.167        0               None   \n",
       "4                     2.288        1  Metformin,Insulin   \n",
       "\n",
       "                                         Precautions  \\\n",
       "0  Regularly monitor blood sugar levels, maintain...   \n",
       "1         Maintain healthy diet and exercise routine   \n",
       "2  Regularly monitor blood sugar levels, maintain...   \n",
       "3         Maintain healthy diet and exercise routine   \n",
       "4  Regularly monitor blood sugar levels, maintain...   \n",
       "\n",
       "                                         Food Intake  \n",
       "0               Balanced diet with regular mealtimes  \n",
       "1         Limit intake of sugary and processed foods  \n",
       "2  Low-carb diet with plenty of leafy greens and ...  \n",
       "3    Balanced diet with moderate carbohydrate intake  \n",
       "4       Low-glycemic index foods and portion control  "
      ]
     },
     "execution_count": 19,
     "metadata": {},
     "output_type": "execute_result"
    }
   ],
   "source": [
    "import pandas as pd\n",
    "data=pd.read_csv(\"diabetesmedicine.csv\")\n",
    "data.head()\n",
    "\n"
   ]
  },
  {
   "cell_type": "code",
   "execution_count": 20,
   "id": "0cf28f6d",
   "metadata": {},
   "outputs": [],
   "source": [
    "X=data.iloc[:,:-3]\n",
    "Y=data.iloc[:,-3:]"
   ]
  },
  {
   "cell_type": "code",
   "execution_count": 21,
   "id": "cfa6e0d0",
   "metadata": {},
   "outputs": [],
   "source": [
    "from sklearn.preprocessing import StandardScaler"
   ]
  },
  {
   "cell_type": "code",
   "execution_count": 22,
   "id": "3e514a50",
   "metadata": {},
   "outputs": [],
   "source": [
    "scale=StandardScaler()\n",
    "trans_scale=scale.fit_transform(X)\n",
    "X=trans_scale"
   ]
  },
  {
   "cell_type": "code",
   "execution_count": 23,
   "id": "b5bd4b0d",
   "metadata": {},
   "outputs": [],
   "source": [
    "from sklearn.model_selection import train_test_split"
   ]
  },
  {
   "cell_type": "code",
   "execution_count": 24,
   "id": "8a7ebd7f",
   "metadata": {},
   "outputs": [],
   "source": [
    "X_train,X_test,Y_train,Y_test=train_test_split(X,Y,test_size=0.2,random_state=3)"
   ]
  },
  {
   "cell_type": "code",
   "execution_count": 25,
   "id": "905e21e8",
   "metadata": {},
   "outputs": [],
   "source": [
    "from sklearn.multioutput import MultiOutputClassifier\n",
    "from sklearn.ensemble import RandomForestClassifier"
   ]
  },
  {
   "cell_type": "code",
   "execution_count": 26,
   "id": "334f7bcb",
   "metadata": {},
   "outputs": [
    {
     "data": {
      "text/plain": [
       "MultiOutputClassifier(estimator=RandomForestClassifier(n_estimators=3))"
      ]
     },
     "execution_count": 26,
     "metadata": {},
     "output_type": "execute_result"
    }
   ],
   "source": [
    "rfc=RandomForestClassifier(n_estimators=3)\n",
    "model=MultiOutputClassifier(rfc)\n",
    "model.fit(X_train,Y_train)"
   ]
  },
  {
   "cell_type": "code",
   "execution_count": 27,
   "id": "e5b4fcaf",
   "metadata": {},
   "outputs": [],
   "source": [
    "y_pred=model.predict(X_test)\n"
   ]
  },
  {
   "cell_type": "code",
   "execution_count": 28,
   "id": "c2701af0",
   "metadata": {},
   "outputs": [
    {
     "data": {
      "text/plain": [
       "array([['Insulin', 'Maintain healthy diet and exercise routine',\n",
       "        'Balanced diet with regular mealtimes']], dtype=object)"
      ]
     },
     "execution_count": 28,
     "metadata": {},
     "output_type": "execute_result"
    }
   ],
   "source": [
    "from numpy import * \n",
    "a=array([50,6,148,72,35,0,33.6,0.627,1])\n",
    "a=a.reshape(1,-1)\n",
    "model.predict(a)"
   ]
  },
  {
   "cell_type": "code",
   "execution_count": null,
   "id": "1c2a0103",
   "metadata": {},
   "outputs": [],
   "source": []
  },
  {
   "cell_type": "code",
   "execution_count": null,
   "id": "1618d70d",
   "metadata": {},
   "outputs": [],
   "source": []
  }
 ],
 "metadata": {
  "kernelspec": {
   "display_name": "Python 3 (ipykernel)",
   "language": "python",
   "name": "python3"
  },
  "language_info": {
   "codemirror_mode": {
    "name": "ipython",
    "version": 3
   },
   "file_extension": ".py",
   "mimetype": "text/x-python",
   "name": "python",
   "nbconvert_exporter": "python",
   "pygments_lexer": "ipython3",
   "version": "3.9.13"
  }
 },
 "nbformat": 4,
 "nbformat_minor": 5
}
